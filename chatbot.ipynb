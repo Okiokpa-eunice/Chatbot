{
 "cells": [
  {
   "cell_type": "code",
   "execution_count": 1,
   "id": "5de9ed14",
   "metadata": {},
   "outputs": [],
   "source": [
    "import random\n",
    "import json\n",
    "import  pickle\n",
    "import numpy as np"
   ]
  },
  {
   "cell_type": "code",
   "execution_count": 2,
   "id": "1360d5e4",
   "metadata": {},
   "outputs": [],
   "source": [
    "import nltk\n",
    "from nltk.stem import WordNetLemmatizer"
   ]
  },
  {
   "cell_type": "code",
   "execution_count": 3,
   "id": "026c1c74",
   "metadata": {},
   "outputs": [],
   "source": [
    "from tensorflow.keras.models import load_model"
   ]
  },
  {
   "cell_type": "code",
   "execution_count": 4,
   "id": "5e280c6c",
   "metadata": {},
   "outputs": [],
   "source": [
    "lemmatizer=WordNetLemmatizer()"
   ]
  },
  {
   "cell_type": "code",
   "execution_count": 5,
   "id": "df5c572e",
   "metadata": {},
   "outputs": [],
   "source": [
    "intents=json.loads(open('intent.json',encoding='utf-8').read())"
   ]
  },
  {
   "cell_type": "code",
   "execution_count": 6,
   "id": "b50bb4de",
   "metadata": {},
   "outputs": [],
   "source": [
    "words=pickle.load(open('words.pkl','rb'))"
   ]
  },
  {
   "cell_type": "code",
   "execution_count": 7,
   "id": "6bd0cd78",
   "metadata": {},
   "outputs": [],
   "source": [
    "classes=pickle.load(open('classes.pkl','rb'))"
   ]
  },
  {
   "cell_type": "code",
   "execution_count": 8,
   "id": "3766e261",
   "metadata": {},
   "outputs": [],
   "source": [
    "model=load_model('chatbot_model.h5')"
   ]
  },
  {
   "cell_type": "code",
   "execution_count": 9,
   "id": "ce2497a4",
   "metadata": {},
   "outputs": [],
   "source": [
    "def clean_up_sentence(sentence):\n",
    "    sentence_words=nltk.word_tokenize(sentence)\n",
    "    sentence_words=[lemmatizer.lemmatize(word) for word in sentence_words]\n",
    "    return sentence_words"
   ]
  },
  {
   "cell_type": "code",
   "execution_count": 10,
   "id": "17842eca",
   "metadata": {},
   "outputs": [],
   "source": [
    "def bag_of_words(sentence,words,show_details=True):\n",
    "    sentence_words=clean_up_sentence(sentence)\n",
    "    bag=[0]*len(words)\n",
    "    for w in sentence_words:\n",
    "        for i, word in enumerate(words):\n",
    "            if word==w:\n",
    "                bag[i]=1\n",
    "                if show_details:\n",
    "                    print(\"found in bag:%w\"% word)\n",
    "    return np.array(bag)"
   ]
  },
  {
   "cell_type": "code",
   "execution_count": 11,
   "id": "6f58a7c4",
   "metadata": {},
   "outputs": [],
   "source": [
    "def predict_class(sentence,model):\n",
    "    bow=bag_of_words(sentence,words,show_details=False)\n",
    "    res=model.predict(np.array([bow]))[0]\n",
    "    ERROR_THRESHOLD=0.25\n",
    "    results=[[i, r] for i, r in enumerate(res) if r > ERROR_THRESHOLD]\n",
    "    \n",
    "    results.sort(key=lambda x: x[1], reverse=True)\n",
    "    return_list=[]\n",
    "    for r in results:\n",
    "        return_list.append({'intent':classes[r[0]],'probability':str(r[1])})\n",
    "    return return_list"
   ]
  },
  {
   "cell_type": "code",
   "execution_count": null,
   "id": "f9147543",
   "metadata": {},
   "outputs": [
    {
     "name": "stdout",
     "output_type": "stream",
     "text": [
      "Hi! I am your chatbuddy from Polaris bank\n",
      "Good day\n",
      "1/1 [==============================] - 2s 2s/step\n",
      "Hi, I'm Rob.I can help you with the right information needed to resolve the following issues. Please enter/type a number from the list below to begin with:                                                                                                         1. Opening an account                                                                                                                       2. Failed transaction                                                                                                                       3. Loan application                                                                                                                         4. How to check account balance                                                                                                             5. How to make a transfer                                                                                                                   6. Airtime purchase                                                                                                                         7. Issues with vulte                                                                                                                        8. Customer care\n",
      "1\n",
      "1/1 [==============================] - 0s 31ms/step\n",
      "Please visit any polaris bank branch closest to you to fill the account opening form and also go along with the necessary documents such as; A recent passport photograph, A valid ID card and Utility bill\n",
      "2\n",
      "1/1 [==============================] - 0s 27ms/step\n",
      "Please enter/type a number from the list below that concerns your issue:                                                  9. Failed airtime purchase                                                                                                                  10. Failed POS/ATM withdrawal                                                                                                                11. Failed Transfer\n",
      "10\n",
      "1/1 [==============================] - 0s 29ms/step\n",
      "We apologize for all inconvenience caused by the issue. Please provide your account number,amount and transaction date for further investigation and assistance\n"
     ]
    }
   ],
   "source": [
    "def get_response(intents_list,intent_json):\n",
    "    tag=intents_list[0]['intent']\n",
    "    list_of_intents=intent_json['intents']\n",
    "    for i in list_of_intents:\n",
    "        if(i['tag']==tag):\n",
    "            result= random.choice(i['responses'])\n",
    "            break\n",
    "        else:\n",
    "            result=\" Sorry,I do not understand.Please enter a number from the list\"\n",
    "    return result\n",
    "\n",
    "print(\"Hi! I am your chatbuddy from Polaris bank\")\n",
    "\n",
    "while True:\n",
    "    message=input(\"\")\n",
    "    ints=predict_class(message,model)\n",
    "    resp=get_response(ints,intents)\n",
    "    print(resp)"
   ]
  },
  {
   "cell_type": "code",
   "execution_count": null,
   "id": "c1f3a335",
   "metadata": {},
   "outputs": [],
   "source": []
  }
 ],
 "metadata": {
  "kernelspec": {
   "display_name": "Python 3 (ipykernel)",
   "language": "python",
   "name": "python3"
  },
  "language_info": {
   "codemirror_mode": {
    "name": "ipython",
    "version": 3
   },
   "file_extension": ".py",
   "mimetype": "text/x-python",
   "name": "python",
   "nbconvert_exporter": "python",
   "pygments_lexer": "ipython3",
   "version": "3.9.13"
  }
 },
 "nbformat": 4,
 "nbformat_minor": 5
}
