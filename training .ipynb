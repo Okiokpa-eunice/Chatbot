{
 "cells": [
  {
   "cell_type": "code",
   "execution_count": 1,
   "id": "33cc99d4",
   "metadata": {},
   "outputs": [],
   "source": [
    "import random"
   ]
  },
  {
   "cell_type": "code",
   "execution_count": 2,
   "id": "3ac5012e",
   "metadata": {},
   "outputs": [],
   "source": [
    "import json"
   ]
  },
  {
   "cell_type": "code",
   "execution_count": 3,
   "id": "1c996524",
   "metadata": {},
   "outputs": [],
   "source": [
    "import pickle"
   ]
  },
  {
   "cell_type": "code",
   "execution_count": 4,
   "id": "d9effd73",
   "metadata": {},
   "outputs": [],
   "source": [
    "import numpy as np"
   ]
  },
  {
   "cell_type": "code",
   "execution_count": 5,
   "id": "671a2378",
   "metadata": {},
   "outputs": [],
   "source": [
    "import nltk"
   ]
  },
  {
   "cell_type": "code",
   "execution_count": 6,
   "id": "916a92ec",
   "metadata": {},
   "outputs": [],
   "source": [
    "from nltk.stem import WordNetLemmatizer"
   ]
  },
  {
   "cell_type": "code",
   "execution_count": 7,
   "id": "ded4e64e",
   "metadata": {},
   "outputs": [
    {
     "name": "stdout",
     "output_type": "stream",
     "text": [
      "Defaulting to user installation because normal site-packages is not writeable\n",
      "Requirement already satisfied: tensorflow in c:\\users\\user\\appdata\\roaming\\python\\python39\\site-packages (2.12.0)\n",
      "Requirement already satisfied: tensorflow-intel==2.12.0 in c:\\users\\user\\appdata\\roaming\\python\\python39\\site-packages (from tensorflow) (2.12.0)\n",
      "Requirement already satisfied: absl-py>=1.0.0 in c:\\users\\user\\appdata\\roaming\\python\\python39\\site-packages (from tensorflow-intel==2.12.0->tensorflow) (1.4.0)\n",
      "Requirement already satisfied: astunparse>=1.6.0 in c:\\users\\user\\appdata\\roaming\\python\\python39\\site-packages (from tensorflow-intel==2.12.0->tensorflow) (1.6.3)\n",
      "Requirement already satisfied: flatbuffers>=2.0 in c:\\users\\user\\appdata\\roaming\\python\\python39\\site-packages (from tensorflow-intel==2.12.0->tensorflow) (23.3.3)\n",
      "Requirement already satisfied: gast<=0.4.0,>=0.2.1 in c:\\users\\user\\appdata\\roaming\\python\\python39\\site-packages (from tensorflow-intel==2.12.0->tensorflow) (0.4.0)\n",
      "Requirement already satisfied: google-pasta>=0.1.1 in c:\\users\\user\\appdata\\roaming\\python\\python39\\site-packages (from tensorflow-intel==2.12.0->tensorflow) (0.2.0)\n",
      "Requirement already satisfied: h5py>=2.9.0 in c:\\desktop\\new folder\\anaconda python\\lib\\site-packages (from tensorflow-intel==2.12.0->tensorflow) (3.7.0)\n",
      "Requirement already satisfied: jax>=0.3.15 in c:\\users\\user\\appdata\\roaming\\python\\python39\\site-packages (from tensorflow-intel==2.12.0->tensorflow) (0.4.8)\n",
      "Requirement already satisfied: libclang>=13.0.0 in c:\\users\\user\\appdata\\roaming\\python\\python39\\site-packages (from tensorflow-intel==2.12.0->tensorflow) (16.0.0)\n",
      "Requirement already satisfied: numpy<1.24,>=1.22 in c:\\users\\user\\appdata\\roaming\\python\\python39\\site-packages (from tensorflow-intel==2.12.0->tensorflow) (1.23.5)\n",
      "Requirement already satisfied: opt-einsum>=2.3.2 in c:\\users\\user\\appdata\\roaming\\python\\python39\\site-packages (from tensorflow-intel==2.12.0->tensorflow) (3.3.0)\n",
      "Requirement already satisfied: packaging in c:\\desktop\\new folder\\anaconda python\\lib\\site-packages (from tensorflow-intel==2.12.0->tensorflow) (21.3)\n",
      "Requirement already satisfied: protobuf!=4.21.0,!=4.21.1,!=4.21.2,!=4.21.3,!=4.21.4,!=4.21.5,<5.0.0dev,>=3.20.3 in c:\\users\\user\\appdata\\roaming\\python\\python39\\site-packages (from tensorflow-intel==2.12.0->tensorflow) (4.22.3)\n",
      "Requirement already satisfied: setuptools in c:\\desktop\\new folder\\anaconda python\\lib\\site-packages (from tensorflow-intel==2.12.0->tensorflow) (63.4.1)\n",
      "Requirement already satisfied: six>=1.12.0 in c:\\desktop\\new folder\\anaconda python\\lib\\site-packages (from tensorflow-intel==2.12.0->tensorflow) (1.16.0)\n",
      "Requirement already satisfied: termcolor>=1.1.0 in c:\\users\\user\\appdata\\roaming\\python\\python39\\site-packages (from tensorflow-intel==2.12.0->tensorflow) (2.2.0)\n",
      "Requirement already satisfied: typing-extensions>=3.6.6 in c:\\desktop\\new folder\\anaconda python\\lib\\site-packages (from tensorflow-intel==2.12.0->tensorflow) (4.3.0)\n",
      "Requirement already satisfied: wrapt<1.15,>=1.11.0 in c:\\desktop\\new folder\\anaconda python\\lib\\site-packages (from tensorflow-intel==2.12.0->tensorflow) (1.14.1)\n",
      "Requirement already satisfied: grpcio<2.0,>=1.24.3 in c:\\users\\user\\appdata\\roaming\\python\\python39\\site-packages (from tensorflow-intel==2.12.0->tensorflow) (1.54.0)\n",
      "Requirement already satisfied: tensorboard<2.13,>=2.12 in c:\\users\\user\\appdata\\roaming\\python\\python39\\site-packages (from tensorflow-intel==2.12.0->tensorflow) (2.12.2)\n",
      "Requirement already satisfied: tensorflow-estimator<2.13,>=2.12.0 in c:\\users\\user\\appdata\\roaming\\python\\python39\\site-packages (from tensorflow-intel==2.12.0->tensorflow) (2.12.0)\n",
      "Requirement already satisfied: keras<2.13,>=2.12.0 in c:\\users\\user\\appdata\\roaming\\python\\python39\\site-packages (from tensorflow-intel==2.12.0->tensorflow) (2.12.0)\n",
      "Requirement already satisfied: tensorflow-io-gcs-filesystem>=0.23.1 in c:\\users\\user\\appdata\\roaming\\python\\python39\\site-packages (from tensorflow-intel==2.12.0->tensorflow) (0.31.0)\n",
      "Requirement already satisfied: wheel<1.0,>=0.23.0 in c:\\desktop\\new folder\\anaconda python\\lib\\site-packages (from astunparse>=1.6.0->tensorflow-intel==2.12.0->tensorflow) (0.37.1)\n",
      "Requirement already satisfied: ml-dtypes>=0.0.3 in c:\\users\\user\\appdata\\roaming\\python\\python39\\site-packages (from jax>=0.3.15->tensorflow-intel==2.12.0->tensorflow) (0.1.0)\n",
      "Requirement already satisfied: scipy>=1.7 in c:\\desktop\\new folder\\anaconda python\\lib\\site-packages (from jax>=0.3.15->tensorflow-intel==2.12.0->tensorflow) (1.9.1)\n",
      "Requirement already satisfied: google-auth<3,>=1.6.3 in c:\\users\\user\\appdata\\roaming\\python\\python39\\site-packages (from tensorboard<2.13,>=2.12->tensorflow-intel==2.12.0->tensorflow) (2.17.3)\n",
      "Requirement already satisfied: google-auth-oauthlib<1.1,>=0.5 in c:\\users\\user\\appdata\\roaming\\python\\python39\\site-packages (from tensorboard<2.13,>=2.12->tensorflow-intel==2.12.0->tensorflow) (1.0.0)\n",
      "Requirement already satisfied: markdown>=2.6.8 in c:\\desktop\\new folder\\anaconda python\\lib\\site-packages (from tensorboard<2.13,>=2.12->tensorflow-intel==2.12.0->tensorflow) (3.3.4)\n",
      "Requirement already satisfied: requests<3,>=2.21.0 in c:\\desktop\\new folder\\anaconda python\\lib\\site-packages (from tensorboard<2.13,>=2.12->tensorflow-intel==2.12.0->tensorflow) (2.28.1)\n",
      "Requirement already satisfied: tensorboard-data-server<0.8.0,>=0.7.0 in c:\\users\\user\\appdata\\roaming\\python\\python39\\site-packages (from tensorboard<2.13,>=2.12->tensorflow-intel==2.12.0->tensorflow) (0.7.0)\n",
      "Requirement already satisfied: tensorboard-plugin-wit>=1.6.0 in c:\\users\\user\\appdata\\roaming\\python\\python39\\site-packages (from tensorboard<2.13,>=2.12->tensorflow-intel==2.12.0->tensorflow) (1.8.1)\n",
      "Requirement already satisfied: werkzeug>=1.0.1 in c:\\desktop\\new folder\\anaconda python\\lib\\site-packages (from tensorboard<2.13,>=2.12->tensorflow-intel==2.12.0->tensorflow) (2.0.3)\n",
      "Requirement already satisfied: pyparsing!=3.0.5,>=2.0.2 in c:\\desktop\\new folder\\anaconda python\\lib\\site-packages (from packaging->tensorflow-intel==2.12.0->tensorflow) (3.0.9)\n",
      "Requirement already satisfied: cachetools<6.0,>=2.0.0 in c:\\users\\user\\appdata\\roaming\\python\\python39\\site-packages (from google-auth<3,>=1.6.3->tensorboard<2.13,>=2.12->tensorflow-intel==2.12.0->tensorflow) (5.3.0)\n",
      "Requirement already satisfied: pyasn1-modules>=0.2.1 in c:\\desktop\\new folder\\anaconda python\\lib\\site-packages (from google-auth<3,>=1.6.3->tensorboard<2.13,>=2.12->tensorflow-intel==2.12.0->tensorflow) (0.2.8)\n",
      "Requirement already satisfied: rsa<5,>=3.1.4 in c:\\users\\user\\appdata\\roaming\\python\\python39\\site-packages (from google-auth<3,>=1.6.3->tensorboard<2.13,>=2.12->tensorflow-intel==2.12.0->tensorflow) (4.9)\n",
      "Requirement already satisfied: requests-oauthlib>=0.7.0 in c:\\users\\user\\appdata\\roaming\\python\\python39\\site-packages (from google-auth-oauthlib<1.1,>=0.5->tensorboard<2.13,>=2.12->tensorflow-intel==2.12.0->tensorflow) (1.3.1)\n",
      "Requirement already satisfied: charset-normalizer<3,>=2 in c:\\desktop\\new folder\\anaconda python\\lib\\site-packages (from requests<3,>=2.21.0->tensorboard<2.13,>=2.12->tensorflow-intel==2.12.0->tensorflow) (2.0.4)\n",
      "Requirement already satisfied: idna<4,>=2.5 in c:\\desktop\\new folder\\anaconda python\\lib\\site-packages (from requests<3,>=2.21.0->tensorboard<2.13,>=2.12->tensorflow-intel==2.12.0->tensorflow) (3.3)\n",
      "Requirement already satisfied: urllib3<1.27,>=1.21.1 in c:\\desktop\\new folder\\anaconda python\\lib\\site-packages (from requests<3,>=2.21.0->tensorboard<2.13,>=2.12->tensorflow-intel==2.12.0->tensorflow) (1.26.11)\n",
      "Requirement already satisfied: certifi>=2017.4.17 in c:\\desktop\\new folder\\anaconda python\\lib\\site-packages (from requests<3,>=2.21.0->tensorboard<2.13,>=2.12->tensorflow-intel==2.12.0->tensorflow) (2022.9.14)\n",
      "Requirement already satisfied: pyasn1<0.5.0,>=0.4.6 in c:\\desktop\\new folder\\anaconda python\\lib\\site-packages (from pyasn1-modules>=0.2.1->google-auth<3,>=1.6.3->tensorboard<2.13,>=2.12->tensorflow-intel==2.12.0->tensorflow) (0.4.8)\n",
      "Requirement already satisfied: oauthlib>=3.0.0 in c:\\users\\user\\appdata\\roaming\\python\\python39\\site-packages (from requests-oauthlib>=0.7.0->google-auth-oauthlib<1.1,>=0.5->tensorboard<2.13,>=2.12->tensorflow-intel==2.12.0->tensorflow) (3.2.2)\n",
      "Note: you may need to restart the kernel to use updated packages.\n"
     ]
    }
   ],
   "source": [
    "pip install tensorflow"
   ]
  },
  {
   "cell_type": "code",
   "execution_count": 8,
   "id": "cdefe56a",
   "metadata": {},
   "outputs": [],
   "source": [
    "from tensorflow.keras.models import Sequential\n",
    "from tensorflow.keras.layers import Dense, Activation, Dropout\n",
    "from tensorflow.keras.optimizers import SGD"
   ]
  },
  {
   "cell_type": "code",
   "execution_count": 9,
   "id": "c146f0c0",
   "metadata": {},
   "outputs": [],
   "source": [
    "lemmatizer=WordNetLemmatizer()"
   ]
  },
  {
   "cell_type": "code",
   "execution_count": 10,
   "id": "d64fe0a5",
   "metadata": {},
   "outputs": [],
   "source": [
    "intents=json.loads(open('intent.json').read())"
   ]
  },
  {
   "cell_type": "code",
   "execution_count": 11,
   "id": "eb027b3c",
   "metadata": {},
   "outputs": [],
   "source": [
    "words=[]\n",
    "classes=[]\n",
    "documents=[]\n",
    "ignore_letters=['?','!','.',',']"
   ]
  },
  {
   "cell_type": "code",
   "execution_count": null,
   "id": "0553a44f",
   "metadata": {},
   "outputs": [],
   "source": [
    "nltk.download('punkt')"
   ]
  },
  {
   "cell_type": "code",
   "execution_count": 13,
   "id": "8ac0dc4e",
   "metadata": {},
   "outputs": [],
   "source": [
    "for intent in intents['intents']:\n",
    "    for pattern in intent['patterns']:\n",
    "        word_list=nltk.word_tokenize(pattern)\n",
    "        words.extend(word_list)\n",
    "        documents.append((word_list,intent['tag']))\n",
    "        if intent['tag'] not in classes:\n",
    "            classes.append(intent['tag'])"
   ]
  },
  {
   "cell_type": "code",
   "execution_count": 14,
   "id": "8373023e",
   "metadata": {},
   "outputs": [
    {
     "name": "stdout",
     "output_type": "stream",
     "text": [
      "[(['hello'], 'greetings'), (['hey'], 'greetings'), (['hi'], 'greetings'), (['good', 'day'], 'greetings'), (['greetings'], 'greetings'), (['what', \"'s\", 'up', '?'], 'greetings'), (['how', 'is', 'it', 'going', '?'], 'greetings'), (['polaris'], 'greetings'), (['account'], 'greetings'), (['bank'], 'greetings'), (['rob'], 'greetings'), (['shop'], 'greetings'), (['iya'], 'greetings'), (['thanks'], 'thanks'), (['Okay'], 'thanks'), (['thank', 'you'], 'thanks'), (['thanks', 'for', 'the', 'help'], 'thanks'), (['2'], 'failed_transaction'), (['9'], 'failed_airtime'), (['10'], 'failed_pos/atm_withdrawal'), (['11'], 'failed_transfer'), (['3'], 'loan'), (['1'], 'account_opening'), (['4'], 'account_balance'), (['5'], 'Transfer'), (['6'], 'airtime_purchase'), (['7'], 'issues_with_vulte'), (['12'], 'verification_issue'), (['13'], 'forgot_password'), (['14'], 'how to access vulte'), (['8'], 'customer care')]\n"
     ]
    }
   ],
   "source": [
    "print(documents)"
   ]
  },
  {
   "cell_type": "code",
   "execution_count": 15,
   "id": "b6ce9f3f",
   "metadata": {},
   "outputs": [
    {
     "name": "stderr",
     "output_type": "stream",
     "text": [
      "[nltk_data] Downloading package wordnet to\n",
      "[nltk_data]     C:\\Users\\USER\\AppData\\Roaming\\nltk_data...\n",
      "[nltk_data]   Package wordnet is already up-to-date!\n"
     ]
    },
    {
     "data": {
      "text/plain": [
       "True"
      ]
     },
     "execution_count": 15,
     "metadata": {},
     "output_type": "execute_result"
    }
   ],
   "source": [
    "nltk.download('wordnet')"
   ]
  },
  {
   "cell_type": "code",
   "execution_count": 16,
   "id": "499af211",
   "metadata": {},
   "outputs": [
    {
     "name": "stderr",
     "output_type": "stream",
     "text": [
      "[nltk_data] Downloading package omw-1.4 to\n",
      "[nltk_data]     C:\\Users\\USER\\AppData\\Roaming\\nltk_data...\n",
      "[nltk_data]   Package omw-1.4 is already up-to-date!\n"
     ]
    },
    {
     "data": {
      "text/plain": [
       "True"
      ]
     },
     "execution_count": 16,
     "metadata": {},
     "output_type": "execute_result"
    }
   ],
   "source": [
    "nltk.download('omw-1.4')"
   ]
  },
  {
   "cell_type": "code",
   "execution_count": 17,
   "id": "96a15fc1",
   "metadata": {},
   "outputs": [],
   "source": [
    "words=[lemmatizer.lemmatize(word.lower())for word in words if word not in ignore_letters]"
   ]
  },
  {
   "cell_type": "code",
   "execution_count": 18,
   "id": "c4844a35",
   "metadata": {},
   "outputs": [],
   "source": [
    "words=sorted(list(set(words)))"
   ]
  },
  {
   "cell_type": "code",
   "execution_count": 19,
   "id": "e50a66aa",
   "metadata": {},
   "outputs": [
    {
     "name": "stdout",
     "output_type": "stream",
     "text": [
      "[\"'s\", '1', '10', '11', '12', '13', '14', '2', '3', '4', '5', '6', '7', '8', '9', 'account', 'bank', 'day', 'for', 'going', 'good', 'greeting', 'hello', 'help', 'hey', 'hi', 'how', 'is', 'it', 'iya', 'okay', 'polaris', 'rob', 'shop', 'thank', 'thanks', 'the', 'up', 'what', 'you']\n"
     ]
    }
   ],
   "source": [
    "print(words)"
   ]
  },
  {
   "cell_type": "code",
   "execution_count": 20,
   "id": "99d2211f",
   "metadata": {},
   "outputs": [],
   "source": [
    "classes=sorted(list(set(classes)))"
   ]
  },
  {
   "cell_type": "code",
   "execution_count": 21,
   "id": "677b2db3",
   "metadata": {},
   "outputs": [],
   "source": [
    "pickle.dump(words,open('words.pkl','wb'))"
   ]
  },
  {
   "cell_type": "code",
   "execution_count": 22,
   "id": "71a5efca",
   "metadata": {},
   "outputs": [],
   "source": [
    "pickle.dump(classes,open('classes.pkl','wb'))"
   ]
  },
  {
   "cell_type": "code",
   "execution_count": 23,
   "id": "0b79c170",
   "metadata": {},
   "outputs": [],
   "source": [
    "training=[]\n",
    "output_empty=[0]*len(classes)"
   ]
  },
  {
   "cell_type": "code",
   "execution_count": 24,
   "id": "b0a7ad57",
   "metadata": {},
   "outputs": [],
   "source": [
    "for document in documents:\n",
    "    bag=[]\n",
    "    word_patterns=document[0]\n",
    "    word_patterns=[lemmatizer.lemmatize(word.lower())for word in word_patterns]\n",
    "    for word in words:\n",
    "        bag.append(1) if word in word_patterns else bag.append(0)\n",
    "    output_row=list(output_empty)\n",
    "    output_row[classes.index(document[1])]=1\n",
    "    training.append([bag,output_row])"
   ]
  },
  {
   "cell_type": "code",
   "execution_count": 25,
   "id": "68d6caf9",
   "metadata": {},
   "outputs": [],
   "source": [
    "random.shuffle(training)"
   ]
  },
  {
   "cell_type": "code",
   "execution_count": 26,
   "id": "96c12bed",
   "metadata": {},
   "outputs": [
    {
     "name": "stderr",
     "output_type": "stream",
     "text": [
      "C:\\Users\\USER\\AppData\\Local\\Temp\\ipykernel_6876\\2136926521.py:1: VisibleDeprecationWarning: Creating an ndarray from ragged nested sequences (which is a list-or-tuple of lists-or-tuples-or ndarrays with different lengths or shapes) is deprecated. If you meant to do this, you must specify 'dtype=object' when creating the ndarray.\n",
      "  training=np.array(training)\n"
     ]
    }
   ],
   "source": [
    "training=np.array(training)"
   ]
  },
  {
   "cell_type": "code",
   "execution_count": 27,
   "id": "83d9ff89",
   "metadata": {},
   "outputs": [],
   "source": [
    "train_x=list(training[:, 0])\n",
    "train_y=list(training[:, 1])"
   ]
  },
  {
   "cell_type": "code",
   "execution_count": 28,
   "id": "763876e8",
   "metadata": {},
   "outputs": [],
   "source": [
    "model=Sequential()"
   ]
  },
  {
   "cell_type": "code",
   "execution_count": 29,
   "id": "9eedfade",
   "metadata": {},
   "outputs": [],
   "source": [
    "model.add(Dense(128,input_shape=(len(train_x[0]),),activation='relu'))\n",
    "model.add(Dropout(0.5))\n",
    "model.add(Dense(64,activation='relu'))\n",
    "model.add(Dropout(0.5))\n",
    "model.add(Dense(len(train_y[1]),activation='softmax'))"
   ]
  },
  {
   "cell_type": "code",
   "execution_count": 30,
   "id": "73d8975e",
   "metadata": {},
   "outputs": [],
   "source": [
    "sgd=SGD(learning_rate=0.01,momentum=0.9,nesterov=True)"
   ]
  },
  {
   "cell_type": "code",
   "execution_count": 31,
   "id": "99e8ad6b",
   "metadata": {},
   "outputs": [],
   "source": [
    "model.compile(loss='categorical_crossentropy',optimizer=sgd,metrics=['accuracy'])"
   ]
  },
  {
   "cell_type": "code",
   "execution_count": 32,
   "id": "1d6a33de",
   "metadata": {},
   "outputs": [
    {
     "name": "stdout",
     "output_type": "stream",
     "text": [
      "Epoch 1/200\n",
      "7/7 [==============================] - 3s 23ms/step - loss: 2.7099 - accuracy: 0.1290\n",
      "Epoch 2/200\n",
      "7/7 [==============================] - 0s 4ms/step - loss: 2.5932 - accuracy: 0.3226\n",
      "Epoch 3/200\n",
      "7/7 [==============================] - 0s 3ms/step - loss: 2.4702 - accuracy: 0.4194\n",
      "Epoch 4/200\n",
      "7/7 [==============================] - 0s 4ms/step - loss: 2.2788 - accuracy: 0.4194\n",
      "Epoch 5/200\n",
      "7/7 [==============================] - 0s 4ms/step - loss: 2.1900 - accuracy: 0.4194\n",
      "Epoch 6/200\n",
      "7/7 [==============================] - 0s 3ms/step - loss: 2.0354 - accuracy: 0.4194\n",
      "Epoch 7/200\n",
      "7/7 [==============================] - 0s 3ms/step - loss: 2.0703 - accuracy: 0.4194\n",
      "Epoch 8/200\n",
      "7/7 [==============================] - 0s 3ms/step - loss: 2.0765 - accuracy: 0.4194\n",
      "Epoch 9/200\n",
      "7/7 [==============================] - 0s 4ms/step - loss: 2.0013 - accuracy: 0.4194\n",
      "Epoch 10/200\n",
      "7/7 [==============================] - 0s 3ms/step - loss: 2.0238 - accuracy: 0.4194\n",
      "Epoch 11/200\n",
      "7/7 [==============================] - 0s 3ms/step - loss: 2.0536 - accuracy: 0.4516\n",
      "Epoch 12/200\n",
      "7/7 [==============================] - 0s 3ms/step - loss: 1.8601 - accuracy: 0.4516\n",
      "Epoch 13/200\n",
      "7/7 [==============================] - 0s 3ms/step - loss: 2.0014 - accuracy: 0.4516\n",
      "Epoch 14/200\n",
      "7/7 [==============================] - 0s 3ms/step - loss: 1.9670 - accuracy: 0.4516\n",
      "Epoch 15/200\n",
      "7/7 [==============================] - 0s 3ms/step - loss: 1.8543 - accuracy: 0.4194\n",
      "Epoch 16/200\n",
      "7/7 [==============================] - 0s 4ms/step - loss: 1.7957 - accuracy: 0.4839\n",
      "Epoch 17/200\n",
      "7/7 [==============================] - 0s 3ms/step - loss: 1.8321 - accuracy: 0.4839\n",
      "Epoch 18/200\n",
      "7/7 [==============================] - 0s 3ms/step - loss: 1.6918 - accuracy: 0.4839\n",
      "Epoch 19/200\n",
      "7/7 [==============================] - 0s 4ms/step - loss: 1.6607 - accuracy: 0.4839\n",
      "Epoch 20/200\n",
      "7/7 [==============================] - 0s 3ms/step - loss: 1.5227 - accuracy: 0.4516\n",
      "Epoch 21/200\n",
      "7/7 [==============================] - 0s 3ms/step - loss: 1.5509 - accuracy: 0.5161\n",
      "Epoch 22/200\n",
      "7/7 [==============================] - 0s 3ms/step - loss: 1.4906 - accuracy: 0.5161\n",
      "Epoch 23/200\n",
      "7/7 [==============================] - 0s 3ms/step - loss: 1.4409 - accuracy: 0.5161\n",
      "Epoch 24/200\n",
      "7/7 [==============================] - 0s 4ms/step - loss: 1.4245 - accuracy: 0.5484\n",
      "Epoch 25/200\n",
      "7/7 [==============================] - 0s 3ms/step - loss: 1.3940 - accuracy: 0.5161\n",
      "Epoch 26/200\n",
      "7/7 [==============================] - 0s 4ms/step - loss: 1.3925 - accuracy: 0.5484\n",
      "Epoch 27/200\n",
      "7/7 [==============================] - 0s 3ms/step - loss: 1.3639 - accuracy: 0.5484\n",
      "Epoch 28/200\n",
      "7/7 [==============================] - 0s 4ms/step - loss: 1.2684 - accuracy: 0.6129\n",
      "Epoch 29/200\n",
      "7/7 [==============================] - 0s 4ms/step - loss: 1.3070 - accuracy: 0.5161\n",
      "Epoch 30/200\n",
      "7/7 [==============================] - 0s 3ms/step - loss: 1.2745 - accuracy: 0.6452\n",
      "Epoch 31/200\n",
      "7/7 [==============================] - 0s 4ms/step - loss: 1.2490 - accuracy: 0.6452\n",
      "Epoch 32/200\n",
      "7/7 [==============================] - 0s 3ms/step - loss: 1.1534 - accuracy: 0.6129\n",
      "Epoch 33/200\n",
      "7/7 [==============================] - 0s 3ms/step - loss: 1.2429 - accuracy: 0.6129\n",
      "Epoch 34/200\n",
      "7/7 [==============================] - 0s 3ms/step - loss: 1.1697 - accuracy: 0.6452\n",
      "Epoch 35/200\n",
      "7/7 [==============================] - 0s 4ms/step - loss: 1.0268 - accuracy: 0.6774\n",
      "Epoch 36/200\n",
      "7/7 [==============================] - 0s 3ms/step - loss: 0.9922 - accuracy: 0.7419\n",
      "Epoch 37/200\n",
      "7/7 [==============================] - 0s 3ms/step - loss: 1.0131 - accuracy: 0.7742\n",
      "Epoch 38/200\n",
      "7/7 [==============================] - 0s 3ms/step - loss: 0.9446 - accuracy: 0.7097\n",
      "Epoch 39/200\n",
      "7/7 [==============================] - 0s 4ms/step - loss: 0.8951 - accuracy: 0.8065\n",
      "Epoch 40/200\n",
      "7/7 [==============================] - 0s 3ms/step - loss: 0.7971 - accuracy: 0.7419\n",
      "Epoch 41/200\n",
      "7/7 [==============================] - 0s 4ms/step - loss: 0.8045 - accuracy: 0.8387\n",
      "Epoch 42/200\n",
      "7/7 [==============================] - 0s 3ms/step - loss: 0.8334 - accuracy: 0.8710\n",
      "Epoch 43/200\n",
      "7/7 [==============================] - 0s 3ms/step - loss: 0.9554 - accuracy: 0.6774\n",
      "Epoch 44/200\n",
      "7/7 [==============================] - 0s 4ms/step - loss: 0.8522 - accuracy: 0.7419\n",
      "Epoch 45/200\n",
      "7/7 [==============================] - 0s 4ms/step - loss: 0.7405 - accuracy: 0.8387\n",
      "Epoch 46/200\n",
      "7/7 [==============================] - 0s 4ms/step - loss: 0.7120 - accuracy: 0.7742\n",
      "Epoch 47/200\n",
      "7/7 [==============================] - 0s 3ms/step - loss: 0.6560 - accuracy: 0.8387\n",
      "Epoch 48/200\n",
      "7/7 [==============================] - 0s 4ms/step - loss: 0.5808 - accuracy: 0.8387\n",
      "Epoch 49/200\n",
      "7/7 [==============================] - 0s 4ms/step - loss: 0.6892 - accuracy: 0.8710\n",
      "Epoch 50/200\n",
      "7/7 [==============================] - 0s 4ms/step - loss: 0.6896 - accuracy: 0.8387\n",
      "Epoch 51/200\n",
      "7/7 [==============================] - 0s 3ms/step - loss: 0.5595 - accuracy: 0.9032\n",
      "Epoch 52/200\n",
      "7/7 [==============================] - 0s 4ms/step - loss: 0.6403 - accuracy: 0.8710\n",
      "Epoch 53/200\n",
      "7/7 [==============================] - 0s 3ms/step - loss: 0.5618 - accuracy: 0.8387\n",
      "Epoch 54/200\n",
      "7/7 [==============================] - 0s 3ms/step - loss: 0.5923 - accuracy: 0.9032\n",
      "Epoch 55/200\n",
      "7/7 [==============================] - 0s 3ms/step - loss: 0.6247 - accuracy: 0.8387\n",
      "Epoch 56/200\n",
      "7/7 [==============================] - 0s 3ms/step - loss: 0.6013 - accuracy: 0.8387\n",
      "Epoch 57/200\n",
      "7/7 [==============================] - 0s 3ms/step - loss: 0.5819 - accuracy: 0.8387\n",
      "Epoch 58/200\n",
      "7/7 [==============================] - 0s 3ms/step - loss: 0.5327 - accuracy: 0.8710\n",
      "Epoch 59/200\n",
      "7/7 [==============================] - 0s 3ms/step - loss: 0.4466 - accuracy: 0.9355\n",
      "Epoch 60/200\n",
      "7/7 [==============================] - 0s 3ms/step - loss: 0.4112 - accuracy: 0.9355\n",
      "Epoch 61/200\n",
      "7/7 [==============================] - 0s 5ms/step - loss: 0.4659 - accuracy: 0.9355\n",
      "Epoch 62/200\n",
      "7/7 [==============================] - 0s 4ms/step - loss: 0.5490 - accuracy: 0.7742\n",
      "Epoch 63/200\n",
      "7/7 [==============================] - 0s 3ms/step - loss: 0.4229 - accuracy: 0.9355\n",
      "Epoch 64/200\n",
      "7/7 [==============================] - 0s 3ms/step - loss: 0.3745 - accuracy: 0.8710\n",
      "Epoch 65/200\n",
      "7/7 [==============================] - 0s 4ms/step - loss: 0.3400 - accuracy: 0.9677\n",
      "Epoch 66/200\n",
      "7/7 [==============================] - 0s 3ms/step - loss: 0.3340 - accuracy: 0.9677\n",
      "Epoch 67/200\n",
      "7/7 [==============================] - 0s 3ms/step - loss: 0.3881 - accuracy: 0.8387\n",
      "Epoch 68/200\n",
      "7/7 [==============================] - 0s 3ms/step - loss: 0.2463 - accuracy: 0.9032\n",
      "Epoch 69/200\n",
      "7/7 [==============================] - 0s 3ms/step - loss: 0.5996 - accuracy: 0.8387\n",
      "Epoch 70/200\n",
      "7/7 [==============================] - 0s 3ms/step - loss: 0.3056 - accuracy: 0.9355\n",
      "Epoch 71/200\n",
      "7/7 [==============================] - 0s 3ms/step - loss: 0.3601 - accuracy: 0.9355\n",
      "Epoch 72/200\n",
      "7/7 [==============================] - 0s 3ms/step - loss: 0.1621 - accuracy: 1.0000\n",
      "Epoch 73/200\n",
      "7/7 [==============================] - 0s 3ms/step - loss: 0.1726 - accuracy: 1.0000\n",
      "Epoch 74/200\n",
      "7/7 [==============================] - 0s 3ms/step - loss: 0.4193 - accuracy: 0.8710\n",
      "Epoch 75/200\n",
      "7/7 [==============================] - 0s 3ms/step - loss: 0.2143 - accuracy: 0.9355\n",
      "Epoch 76/200\n",
      "7/7 [==============================] - 0s 3ms/step - loss: 0.2344 - accuracy: 1.0000\n",
      "Epoch 77/200\n",
      "7/7 [==============================] - 0s 3ms/step - loss: 0.3640 - accuracy: 0.9032\n",
      "Epoch 78/200\n",
      "7/7 [==============================] - 0s 3ms/step - loss: 0.3510 - accuracy: 0.9677\n",
      "Epoch 79/200\n",
      "7/7 [==============================] - 0s 3ms/step - loss: 0.4136 - accuracy: 0.9355\n",
      "Epoch 80/200\n",
      "7/7 [==============================] - 0s 3ms/step - loss: 0.2679 - accuracy: 0.9355\n",
      "Epoch 81/200\n",
      "7/7 [==============================] - 0s 3ms/step - loss: 0.2423 - accuracy: 0.9677\n",
      "Epoch 82/200\n",
      "7/7 [==============================] - 0s 3ms/step - loss: 0.2065 - accuracy: 0.9677\n",
      "Epoch 83/200\n",
      "7/7 [==============================] - 0s 3ms/step - loss: 0.2210 - accuracy: 0.9355\n",
      "Epoch 84/200\n",
      "7/7 [==============================] - 0s 3ms/step - loss: 0.5384 - accuracy: 0.8387\n",
      "Epoch 85/200\n",
      "7/7 [==============================] - 0s 3ms/step - loss: 0.3768 - accuracy: 0.9032\n",
      "Epoch 86/200\n",
      "7/7 [==============================] - 0s 3ms/step - loss: 0.2736 - accuracy: 0.9677\n",
      "Epoch 87/200\n",
      "7/7 [==============================] - 0s 3ms/step - loss: 0.4173 - accuracy: 0.8710\n",
      "Epoch 88/200\n",
      "7/7 [==============================] - 0s 3ms/step - loss: 0.2702 - accuracy: 0.9355\n",
      "Epoch 89/200\n",
      "7/7 [==============================] - 0s 3ms/step - loss: 0.2703 - accuracy: 0.9677\n",
      "Epoch 90/200\n",
      "7/7 [==============================] - 0s 3ms/step - loss: 0.2324 - accuracy: 0.9677\n",
      "Epoch 91/200\n",
      "7/7 [==============================] - 0s 3ms/step - loss: 0.1931 - accuracy: 0.9355\n",
      "Epoch 92/200\n",
      "7/7 [==============================] - 0s 2ms/step - loss: 0.1748 - accuracy: 0.9677\n",
      "Epoch 93/200\n",
      "7/7 [==============================] - 0s 2ms/step - loss: 0.1942 - accuracy: 0.9677\n",
      "Epoch 94/200\n",
      "7/7 [==============================] - 0s 2ms/step - loss: 0.2761 - accuracy: 0.9355\n",
      "Epoch 95/200\n",
      "7/7 [==============================] - 0s 3ms/step - loss: 0.2431 - accuracy: 0.8710\n",
      "Epoch 96/200\n",
      "7/7 [==============================] - 0s 3ms/step - loss: 0.0961 - accuracy: 1.0000\n",
      "Epoch 97/200\n",
      "7/7 [==============================] - 0s 3ms/step - loss: 0.1044 - accuracy: 0.9677\n",
      "Epoch 98/200\n",
      "7/7 [==============================] - 0s 3ms/step - loss: 0.3868 - accuracy: 0.9355\n",
      "Epoch 99/200\n",
      "7/7 [==============================] - 0s 3ms/step - loss: 0.1321 - accuracy: 0.9677\n",
      "Epoch 100/200\n",
      "7/7 [==============================] - 0s 3ms/step - loss: 0.0947 - accuracy: 0.9677\n",
      "Epoch 101/200\n",
      "7/7 [==============================] - 0s 3ms/step - loss: 0.0917 - accuracy: 1.0000\n",
      "Epoch 102/200\n",
      "7/7 [==============================] - 0s 3ms/step - loss: 0.1487 - accuracy: 0.9355\n",
      "Epoch 103/200\n",
      "7/7 [==============================] - 0s 3ms/step - loss: 0.3617 - accuracy: 0.8710\n",
      "Epoch 104/200\n",
      "7/7 [==============================] - 0s 3ms/step - loss: 0.2759 - accuracy: 0.9355\n",
      "Epoch 105/200\n",
      "7/7 [==============================] - 0s 3ms/step - loss: 0.2021 - accuracy: 0.9355\n",
      "Epoch 106/200\n",
      "7/7 [==============================] - 0s 3ms/step - loss: 0.3034 - accuracy: 0.9355\n",
      "Epoch 107/200\n",
      "7/7 [==============================] - 0s 3ms/step - loss: 0.1146 - accuracy: 0.9677\n",
      "Epoch 108/200\n",
      "7/7 [==============================] - 0s 3ms/step - loss: 0.2029 - accuracy: 0.9355\n",
      "Epoch 109/200\n",
      "7/7 [==============================] - 0s 3ms/step - loss: 0.1187 - accuracy: 0.9677\n",
      "Epoch 110/200\n",
      "7/7 [==============================] - 0s 3ms/step - loss: 0.0675 - accuracy: 1.0000\n",
      "Epoch 111/200\n",
      "7/7 [==============================] - 0s 2ms/step - loss: 0.1822 - accuracy: 1.0000\n",
      "Epoch 112/200\n",
      "7/7 [==============================] - 0s 3ms/step - loss: 0.1558 - accuracy: 0.9677\n",
      "Epoch 113/200\n",
      "7/7 [==============================] - 0s 2ms/step - loss: 0.0859 - accuracy: 0.9677\n",
      "Epoch 114/200\n",
      "7/7 [==============================] - 0s 2ms/step - loss: 0.3134 - accuracy: 0.9355\n",
      "Epoch 115/200\n",
      "7/7 [==============================] - 0s 2ms/step - loss: 0.0935 - accuracy: 1.0000\n",
      "Epoch 116/200\n",
      "7/7 [==============================] - 0s 3ms/step - loss: 0.2327 - accuracy: 0.9355\n",
      "Epoch 117/200\n",
      "7/7 [==============================] - 0s 3ms/step - loss: 0.2348 - accuracy: 0.9355\n",
      "Epoch 118/200\n",
      "7/7 [==============================] - 0s 3ms/step - loss: 0.1826 - accuracy: 0.9355\n",
      "Epoch 119/200\n",
      "7/7 [==============================] - 0s 3ms/step - loss: 0.1464 - accuracy: 0.9355\n",
      "Epoch 120/200\n",
      "7/7 [==============================] - 0s 3ms/step - loss: 0.0860 - accuracy: 0.9677\n",
      "Epoch 121/200\n",
      "7/7 [==============================] - 0s 3ms/step - loss: 0.1323 - accuracy: 1.0000\n",
      "Epoch 122/200\n",
      "7/7 [==============================] - 0s 3ms/step - loss: 0.0276 - accuracy: 1.0000\n",
      "Epoch 123/200\n",
      "7/7 [==============================] - 0s 3ms/step - loss: 0.0893 - accuracy: 1.0000\n",
      "Epoch 124/200\n",
      "7/7 [==============================] - 0s 3ms/step - loss: 0.1269 - accuracy: 0.9677\n",
      "Epoch 125/200\n",
      "7/7 [==============================] - 0s 3ms/step - loss: 0.1471 - accuracy: 1.0000\n",
      "Epoch 126/200\n",
      "7/7 [==============================] - 0s 3ms/step - loss: 0.0674 - accuracy: 1.0000\n",
      "Epoch 127/200\n",
      "7/7 [==============================] - 0s 3ms/step - loss: 0.1580 - accuracy: 0.9355\n",
      "Epoch 128/200\n",
      "7/7 [==============================] - 0s 3ms/step - loss: 0.0815 - accuracy: 1.0000\n",
      "Epoch 129/200\n",
      "7/7 [==============================] - 0s 3ms/step - loss: 0.2052 - accuracy: 0.9677\n",
      "Epoch 130/200\n",
      "7/7 [==============================] - 0s 3ms/step - loss: 0.0707 - accuracy: 1.0000\n",
      "Epoch 131/200\n",
      "7/7 [==============================] - 0s 3ms/step - loss: 0.1390 - accuracy: 0.9677\n",
      "Epoch 132/200\n",
      "7/7 [==============================] - 0s 3ms/step - loss: 0.1976 - accuracy: 0.9677\n",
      "Epoch 133/200\n",
      "7/7 [==============================] - 0s 3ms/step - loss: 0.0537 - accuracy: 1.0000\n",
      "Epoch 134/200\n",
      "7/7 [==============================] - 0s 3ms/step - loss: 0.1044 - accuracy: 1.0000\n",
      "Epoch 135/200\n",
      "7/7 [==============================] - 0s 3ms/step - loss: 0.2038 - accuracy: 0.9032\n",
      "Epoch 136/200\n",
      "7/7 [==============================] - 0s 2ms/step - loss: 0.0929 - accuracy: 0.9677\n",
      "Epoch 137/200\n",
      "7/7 [==============================] - 0s 2ms/step - loss: 0.0781 - accuracy: 1.0000\n",
      "Epoch 138/200\n",
      "7/7 [==============================] - 0s 3ms/step - loss: 0.1016 - accuracy: 1.0000\n",
      "Epoch 139/200\n",
      "7/7 [==============================] - 0s 3ms/step - loss: 0.1059 - accuracy: 0.9677\n",
      "Epoch 140/200\n",
      "7/7 [==============================] - 0s 3ms/step - loss: 0.1057 - accuracy: 1.0000\n",
      "Epoch 141/200\n",
      "7/7 [==============================] - 0s 3ms/step - loss: 0.0896 - accuracy: 1.0000\n",
      "Epoch 142/200\n",
      "7/7 [==============================] - 0s 3ms/step - loss: 0.2218 - accuracy: 0.9677\n",
      "Epoch 143/200\n",
      "7/7 [==============================] - 0s 3ms/step - loss: 0.1875 - accuracy: 0.9355\n",
      "Epoch 144/200\n",
      "7/7 [==============================] - 0s 3ms/step - loss: 0.0844 - accuracy: 0.9677\n",
      "Epoch 145/200\n",
      "7/7 [==============================] - 0s 3ms/step - loss: 0.0975 - accuracy: 1.0000\n",
      "Epoch 146/200\n",
      "7/7 [==============================] - 0s 3ms/step - loss: 0.1023 - accuracy: 0.9677\n",
      "Epoch 147/200\n",
      "7/7 [==============================] - 0s 3ms/step - loss: 0.1827 - accuracy: 0.9677\n",
      "Epoch 148/200\n",
      "7/7 [==============================] - 0s 3ms/step - loss: 0.0611 - accuracy: 1.0000\n",
      "Epoch 149/200\n",
      "7/7 [==============================] - 0s 3ms/step - loss: 0.0602 - accuracy: 1.0000\n",
      "Epoch 150/200\n",
      "7/7 [==============================] - 0s 3ms/step - loss: 0.0708 - accuracy: 1.0000\n",
      "Epoch 151/200\n",
      "7/7 [==============================] - 0s 3ms/step - loss: 0.2215 - accuracy: 0.9032\n",
      "Epoch 152/200\n",
      "7/7 [==============================] - 0s 3ms/step - loss: 0.0516 - accuracy: 1.0000\n",
      "Epoch 153/200\n",
      "7/7 [==============================] - 0s 3ms/step - loss: 0.0355 - accuracy: 1.0000\n",
      "Epoch 154/200\n",
      "7/7 [==============================] - 0s 3ms/step - loss: 0.1742 - accuracy: 0.9355\n",
      "Epoch 155/200\n",
      "7/7 [==============================] - 0s 3ms/step - loss: 0.0879 - accuracy: 0.9677\n",
      "Epoch 156/200\n",
      "7/7 [==============================] - 0s 3ms/step - loss: 0.0990 - accuracy: 0.9677\n",
      "Epoch 157/200\n",
      "7/7 [==============================] - 0s 3ms/step - loss: 0.1715 - accuracy: 0.9355\n",
      "Epoch 158/200\n",
      "7/7 [==============================] - 0s 3ms/step - loss: 0.1430 - accuracy: 0.9677\n",
      "Epoch 159/200\n",
      "7/7 [==============================] - 0s 3ms/step - loss: 0.0289 - accuracy: 1.0000\n",
      "Epoch 160/200\n",
      "7/7 [==============================] - 0s 3ms/step - loss: 0.0898 - accuracy: 1.0000\n",
      "Epoch 161/200\n",
      "7/7 [==============================] - 0s 3ms/step - loss: 0.1116 - accuracy: 1.0000\n",
      "Epoch 162/200\n",
      "7/7 [==============================] - 0s 3ms/step - loss: 0.0788 - accuracy: 1.0000\n",
      "Epoch 163/200\n",
      "7/7 [==============================] - 0s 2ms/step - loss: 0.1315 - accuracy: 1.0000\n",
      "Epoch 164/200\n",
      "7/7 [==============================] - 0s 3ms/step - loss: 0.1578 - accuracy: 0.9677\n",
      "Epoch 165/200\n",
      "7/7 [==============================] - 0s 3ms/step - loss: 0.3244 - accuracy: 0.8710\n",
      "Epoch 166/200\n",
      "7/7 [==============================] - 0s 3ms/step - loss: 0.1815 - accuracy: 0.9677\n",
      "Epoch 167/200\n",
      "7/7 [==============================] - 0s 2ms/step - loss: 0.2181 - accuracy: 0.9677\n",
      "Epoch 168/200\n",
      "7/7 [==============================] - 0s 3ms/step - loss: 0.0734 - accuracy: 1.0000\n",
      "Epoch 169/200\n",
      "7/7 [==============================] - 0s 3ms/step - loss: 0.1312 - accuracy: 1.0000\n",
      "Epoch 170/200\n",
      "7/7 [==============================] - 0s 2ms/step - loss: 0.1202 - accuracy: 0.9677\n",
      "Epoch 171/200\n",
      "7/7 [==============================] - 0s 2ms/step - loss: 0.0954 - accuracy: 1.0000\n",
      "Epoch 172/200\n",
      "7/7 [==============================] - 0s 2ms/step - loss: 0.0985 - accuracy: 0.9677\n",
      "Epoch 173/200\n",
      "7/7 [==============================] - 0s 2ms/step - loss: 0.0950 - accuracy: 1.0000\n",
      "Epoch 174/200\n",
      "7/7 [==============================] - 0s 2ms/step - loss: 0.0932 - accuracy: 0.9677\n",
      "Epoch 175/200\n",
      "7/7 [==============================] - 0s 3ms/step - loss: 0.1327 - accuracy: 0.9677\n",
      "Epoch 176/200\n",
      "7/7 [==============================] - 0s 3ms/step - loss: 0.0975 - accuracy: 0.9355\n",
      "Epoch 177/200\n",
      "7/7 [==============================] - 0s 3ms/step - loss: 0.0275 - accuracy: 1.0000\n",
      "Epoch 178/200\n",
      "7/7 [==============================] - 0s 3ms/step - loss: 0.1812 - accuracy: 0.9677\n",
      "Epoch 179/200\n",
      "7/7 [==============================] - 0s 3ms/step - loss: 0.1011 - accuracy: 0.9677\n",
      "Epoch 180/200\n",
      "7/7 [==============================] - 0s 3ms/step - loss: 0.1550 - accuracy: 0.9677\n",
      "Epoch 181/200\n",
      "7/7 [==============================] - 0s 3ms/step - loss: 0.0694 - accuracy: 1.0000\n",
      "Epoch 182/200\n",
      "7/7 [==============================] - 0s 3ms/step - loss: 0.0179 - accuracy: 1.0000\n",
      "Epoch 183/200\n",
      "7/7 [==============================] - 0s 3ms/step - loss: 0.0886 - accuracy: 0.9677\n",
      "Epoch 184/200\n",
      "7/7 [==============================] - 0s 3ms/step - loss: 0.0287 - accuracy: 1.0000\n",
      "Epoch 185/200\n",
      "7/7 [==============================] - 0s 3ms/step - loss: 0.1497 - accuracy: 0.9677\n",
      "Epoch 186/200\n",
      "7/7 [==============================] - 0s 2ms/step - loss: 0.1111 - accuracy: 0.9355\n",
      "Epoch 187/200\n",
      "7/7 [==============================] - 0s 3ms/step - loss: 0.1227 - accuracy: 0.9677\n",
      "Epoch 188/200\n",
      "7/7 [==============================] - 0s 2ms/step - loss: 0.0937 - accuracy: 0.9677\n",
      "Epoch 189/200\n",
      "7/7 [==============================] - 0s 2ms/step - loss: 0.0212 - accuracy: 1.0000\n",
      "Epoch 190/200\n",
      "7/7 [==============================] - 0s 2ms/step - loss: 0.0596 - accuracy: 1.0000\n",
      "Epoch 191/200\n",
      "7/7 [==============================] - 0s 2ms/step - loss: 0.0273 - accuracy: 1.0000\n",
      "Epoch 192/200\n",
      "7/7 [==============================] - 0s 3ms/step - loss: 0.0184 - accuracy: 1.0000\n",
      "Epoch 193/200\n",
      "7/7 [==============================] - 0s 3ms/step - loss: 0.1202 - accuracy: 1.0000\n",
      "Epoch 194/200\n",
      "7/7 [==============================] - 0s 3ms/step - loss: 0.0233 - accuracy: 1.0000\n",
      "Epoch 195/200\n",
      "7/7 [==============================] - 0s 3ms/step - loss: 0.0670 - accuracy: 1.0000\n",
      "Epoch 196/200\n",
      "7/7 [==============================] - 0s 5ms/step - loss: 0.1572 - accuracy: 1.0000\n",
      "Epoch 197/200\n",
      "7/7 [==============================] - 0s 3ms/step - loss: 0.0512 - accuracy: 1.0000\n",
      "Epoch 198/200\n",
      "7/7 [==============================] - 0s 3ms/step - loss: 0.0801 - accuracy: 1.0000\n",
      "Epoch 199/200\n",
      "7/7 [==============================] - 0s 3ms/step - loss: 0.0666 - accuracy: 1.0000\n",
      "Epoch 200/200\n",
      "7/7 [==============================] - 0s 3ms/step - loss: 0.1053 - accuracy: 0.9677\n"
     ]
    }
   ],
   "source": [
    "hist=model.fit(np.array(train_x),np.array(train_y),epochs=200,batch_size=5,verbose=1)"
   ]
  },
  {
   "cell_type": "code",
   "execution_count": 33,
   "id": "1f0da68c",
   "metadata": {},
   "outputs": [],
   "source": [
    "model.save('chatbot_model.h5',hist)"
   ]
  },
  {
   "cell_type": "code",
   "execution_count": 34,
   "id": "beaf8106",
   "metadata": {},
   "outputs": [
    {
     "data": {
      "text/plain": [
       "'1.23.5'"
      ]
     },
     "execution_count": 34,
     "metadata": {},
     "output_type": "execute_result"
    }
   ],
   "source": [
    "np.__version__"
   ]
  },
  {
   "cell_type": "code",
   "execution_count": 35,
   "id": "e8ee12b8",
   "metadata": {},
   "outputs": [],
   "source": [
    "import numpy as np"
   ]
  },
  {
   "cell_type": "code",
   "execution_count": null,
   "id": "e96b13a7",
   "metadata": {},
   "outputs": [],
   "source": []
  }
 ],
 "metadata": {
  "kernelspec": {
   "display_name": "Python 3 (ipykernel)",
   "language": "python",
   "name": "python3"
  },
  "language_info": {
   "codemirror_mode": {
    "name": "ipython",
    "version": 3
   },
   "file_extension": ".py",
   "mimetype": "text/x-python",
   "name": "python",
   "nbconvert_exporter": "python",
   "pygments_lexer": "ipython3",
   "version": "3.9.13"
  }
 },
 "nbformat": 4,
 "nbformat_minor": 5
}
